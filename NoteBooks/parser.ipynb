{
 "cells": [
  {
   "cell_type": "code",
   "execution_count": 3,
   "metadata": {},
   "outputs": [],
   "source": [
    "import pandas as pd\n",
    "import numpy as np\n",
    "import spacy"
   ]
  },
  {
   "cell_type": "code",
   "execution_count": 4,
   "metadata": {},
   "outputs": [
    {
     "name": "stdout",
     "output_type": "stream",
     "text": [
      "Moon Water, Ashwinder Eggs, Roses, Peperoncino in polvere\n"
     ]
    }
   ],
   "source": [
    "t = {0: [1, 'Moon Water'], 1: [1, 'Ashwinder Eggs'], 2: [1, 'Roses'], 3: [1, 'Peperoncino in polvere']}\n",
    "j = []\n",
    "for i in range(0,len(t)):\n",
    "    j.append(t[i][1])\n",
    "j = ', '.join(j)\n",
    "print(j)"
   ]
  },
  {
   "cell_type": "code",
   "execution_count": 5,
   "metadata": {},
   "outputs": [
    {
     "name": "stderr",
     "output_type": "stream",
     "text": [
      "/tmp/ipykernel_4764/1381282712.py:19: UserWarning: [W007] The model you're using has no word vectors loaded, so the result of the Doc.similarity method will be based on the tagger, parser and NER, which may not give useful similarity judgements. This may happen if you're using one of the small models, e.g. `en_core_web_sm`, which don't ship with word vectors and only use context-sensitive tensors. You can always add your own word vectors, or use one of the larger models instead if available.\n",
      "  if ingredient_to_check.similarity(tmp) > 0.5:\n"
     ]
    },
    {
     "name": "stdout",
     "output_type": "stream",
     "text": [
      "Roses\n"
     ]
    }
   ],
   "source": [
    "from nltk.stem.porter import *\n",
    "from nltk.tokenize import word_tokenize\n",
    "from nltk.tokenize.treebank import TreebankWordDetokenizer\n",
    "a = \"roses petals\"\n",
    "frame = [[1, 'Moon Water'], [1, 'Ashwinder Eggs'], [1, 'Roses'], [1, 'Peperoncino in polvere']]\n",
    "def tokenize_and_stem(ingredient):\n",
    "    stemmer = PorterStemmer()\n",
    "    nlp = spacy.load(\"en_core_web_sm\")\n",
    "    ingr_tokenized = word_tokenize(ingredient)\n",
    "    ingr_tokenized =[stemmer.stem(token) for token in ingr_tokenized]\n",
    "    ingr_tokenized =  TreebankWordDetokenizer().detokenize(ingr_tokenized)\n",
    "    return nlp(ingr_tokenized)\n",
    "    \n",
    "def check_diff(ingredient_to_check):\n",
    "    elem_top_similarity = None\n",
    "    ingredient_to_check = tokenize_and_stem(ingredient_to_check)\n",
    "    for item in frame:\n",
    "        tmp = tokenize_and_stem(item[1])\n",
    "        if ingredient_to_check.similarity(tmp) > 0.5:\n",
    "            top_similarity = item[1]\n",
    "\n",
    "    return top_similarity\n",
    "\n",
    "print(check_diff(a))"
   ]
  },
  {
   "cell_type": "code",
   "execution_count": 6,
   "metadata": {},
   "outputs": [
    {
     "ename": "FileNotFoundError",
     "evalue": "File ../Data/potions.json does not exist",
     "output_type": "error",
     "traceback": [
      "\u001b[0;31m---------------------------------------------------------------------------\u001b[0m",
      "\u001b[0;31mFileNotFoundError\u001b[0m                         Traceback (most recent call last)",
      "Cell \u001b[0;32mIn [6], line 1\u001b[0m\n\u001b[0;32m----> 1\u001b[0m df \u001b[39m=\u001b[39m pd\u001b[39m.\u001b[39;49mread_json(\u001b[39m\"\u001b[39;49m\u001b[39m../Data/potions.json\u001b[39;49m\u001b[39m\"\u001b[39;49m, orient\u001b[39m=\u001b[39;49m\u001b[39m\"\u001b[39;49m\u001b[39mindex\u001b[39;49m\u001b[39m\"\u001b[39;49m)\n\u001b[1;32m      2\u001b[0m df\n",
      "File \u001b[0;32m~/.local/lib/python3.10/site-packages/pandas/util/_decorators.py:211\u001b[0m, in \u001b[0;36mdeprecate_kwarg.<locals>._deprecate_kwarg.<locals>.wrapper\u001b[0;34m(*args, **kwargs)\u001b[0m\n\u001b[1;32m    209\u001b[0m     \u001b[39melse\u001b[39;00m:\n\u001b[1;32m    210\u001b[0m         kwargs[new_arg_name] \u001b[39m=\u001b[39m new_arg_value\n\u001b[0;32m--> 211\u001b[0m \u001b[39mreturn\u001b[39;00m func(\u001b[39m*\u001b[39;49margs, \u001b[39m*\u001b[39;49m\u001b[39m*\u001b[39;49mkwargs)\n",
      "File \u001b[0;32m~/.local/lib/python3.10/site-packages/pandas/util/_decorators.py:331\u001b[0m, in \u001b[0;36mdeprecate_nonkeyword_arguments.<locals>.decorate.<locals>.wrapper\u001b[0;34m(*args, **kwargs)\u001b[0m\n\u001b[1;32m    325\u001b[0m \u001b[39mif\u001b[39;00m \u001b[39mlen\u001b[39m(args) \u001b[39m>\u001b[39m num_allow_args:\n\u001b[1;32m    326\u001b[0m     warnings\u001b[39m.\u001b[39mwarn(\n\u001b[1;32m    327\u001b[0m         msg\u001b[39m.\u001b[39mformat(arguments\u001b[39m=\u001b[39m_format_argument_list(allow_args)),\n\u001b[1;32m    328\u001b[0m         \u001b[39mFutureWarning\u001b[39;00m,\n\u001b[1;32m    329\u001b[0m         stacklevel\u001b[39m=\u001b[39mfind_stack_level(),\n\u001b[1;32m    330\u001b[0m     )\n\u001b[0;32m--> 331\u001b[0m \u001b[39mreturn\u001b[39;00m func(\u001b[39m*\u001b[39;49margs, \u001b[39m*\u001b[39;49m\u001b[39m*\u001b[39;49mkwargs)\n",
      "File \u001b[0;32m~/.local/lib/python3.10/site-packages/pandas/io/json/_json.py:733\u001b[0m, in \u001b[0;36mread_json\u001b[0;34m(path_or_buf, orient, typ, dtype, convert_axes, convert_dates, keep_default_dates, numpy, precise_float, date_unit, encoding, encoding_errors, lines, chunksize, compression, nrows, storage_options)\u001b[0m\n\u001b[1;32m    730\u001b[0m \u001b[39mif\u001b[39;00m convert_axes \u001b[39mis\u001b[39;00m \u001b[39mNone\u001b[39;00m \u001b[39mand\u001b[39;00m orient \u001b[39m!=\u001b[39m \u001b[39m\"\u001b[39m\u001b[39mtable\u001b[39m\u001b[39m\"\u001b[39m:\n\u001b[1;32m    731\u001b[0m     convert_axes \u001b[39m=\u001b[39m \u001b[39mTrue\u001b[39;00m\n\u001b[0;32m--> 733\u001b[0m json_reader \u001b[39m=\u001b[39m JsonReader(\n\u001b[1;32m    734\u001b[0m     path_or_buf,\n\u001b[1;32m    735\u001b[0m     orient\u001b[39m=\u001b[39;49morient,\n\u001b[1;32m    736\u001b[0m     typ\u001b[39m=\u001b[39;49mtyp,\n\u001b[1;32m    737\u001b[0m     dtype\u001b[39m=\u001b[39;49mdtype,\n\u001b[1;32m    738\u001b[0m     convert_axes\u001b[39m=\u001b[39;49mconvert_axes,\n\u001b[1;32m    739\u001b[0m     convert_dates\u001b[39m=\u001b[39;49mconvert_dates,\n\u001b[1;32m    740\u001b[0m     keep_default_dates\u001b[39m=\u001b[39;49mkeep_default_dates,\n\u001b[1;32m    741\u001b[0m     numpy\u001b[39m=\u001b[39;49mnumpy,\n\u001b[1;32m    742\u001b[0m     precise_float\u001b[39m=\u001b[39;49mprecise_float,\n\u001b[1;32m    743\u001b[0m     date_unit\u001b[39m=\u001b[39;49mdate_unit,\n\u001b[1;32m    744\u001b[0m     encoding\u001b[39m=\u001b[39;49mencoding,\n\u001b[1;32m    745\u001b[0m     lines\u001b[39m=\u001b[39;49mlines,\n\u001b[1;32m    746\u001b[0m     chunksize\u001b[39m=\u001b[39;49mchunksize,\n\u001b[1;32m    747\u001b[0m     compression\u001b[39m=\u001b[39;49mcompression,\n\u001b[1;32m    748\u001b[0m     nrows\u001b[39m=\u001b[39;49mnrows,\n\u001b[1;32m    749\u001b[0m     storage_options\u001b[39m=\u001b[39;49mstorage_options,\n\u001b[1;32m    750\u001b[0m     encoding_errors\u001b[39m=\u001b[39;49mencoding_errors,\n\u001b[1;32m    751\u001b[0m )\n\u001b[1;32m    753\u001b[0m \u001b[39mif\u001b[39;00m chunksize:\n\u001b[1;32m    754\u001b[0m     \u001b[39mreturn\u001b[39;00m json_reader\n",
      "File \u001b[0;32m~/.local/lib/python3.10/site-packages/pandas/io/json/_json.py:818\u001b[0m, in \u001b[0;36mJsonReader.__init__\u001b[0;34m(self, filepath_or_buffer, orient, typ, dtype, convert_axes, convert_dates, keep_default_dates, numpy, precise_float, date_unit, encoding, lines, chunksize, compression, nrows, storage_options, encoding_errors)\u001b[0m\n\u001b[1;32m    815\u001b[0m     \u001b[39mif\u001b[39;00m \u001b[39mnot\u001b[39;00m \u001b[39mself\u001b[39m\u001b[39m.\u001b[39mlines:\n\u001b[1;32m    816\u001b[0m         \u001b[39mraise\u001b[39;00m \u001b[39mValueError\u001b[39;00m(\u001b[39m\"\u001b[39m\u001b[39mnrows can only be passed if lines=True\u001b[39m\u001b[39m\"\u001b[39m)\n\u001b[0;32m--> 818\u001b[0m data \u001b[39m=\u001b[39m \u001b[39mself\u001b[39;49m\u001b[39m.\u001b[39;49m_get_data_from_filepath(filepath_or_buffer)\n\u001b[1;32m    819\u001b[0m \u001b[39mself\u001b[39m\u001b[39m.\u001b[39mdata \u001b[39m=\u001b[39m \u001b[39mself\u001b[39m\u001b[39m.\u001b[39m_preprocess_data(data)\n",
      "File \u001b[0;32m~/.local/lib/python3.10/site-packages/pandas/io/json/_json.py:874\u001b[0m, in \u001b[0;36mJsonReader._get_data_from_filepath\u001b[0;34m(self, filepath_or_buffer)\u001b[0m\n\u001b[1;32m    866\u001b[0m     filepath_or_buffer \u001b[39m=\u001b[39m \u001b[39mself\u001b[39m\u001b[39m.\u001b[39mhandles\u001b[39m.\u001b[39mhandle\n\u001b[1;32m    867\u001b[0m \u001b[39melif\u001b[39;00m (\n\u001b[1;32m    868\u001b[0m     \u001b[39misinstance\u001b[39m(filepath_or_buffer, \u001b[39mstr\u001b[39m)\n\u001b[1;32m    869\u001b[0m     \u001b[39mand\u001b[39;00m filepath_or_buffer\u001b[39m.\u001b[39mlower()\u001b[39m.\u001b[39mendswith(\n\u001b[0;32m   (...)\u001b[0m\n\u001b[1;32m    872\u001b[0m     \u001b[39mand\u001b[39;00m \u001b[39mnot\u001b[39;00m file_exists(filepath_or_buffer)\n\u001b[1;32m    873\u001b[0m ):\n\u001b[0;32m--> 874\u001b[0m     \u001b[39mraise\u001b[39;00m \u001b[39mFileNotFoundError\u001b[39;00m(\u001b[39mf\u001b[39m\u001b[39m\"\u001b[39m\u001b[39mFile \u001b[39m\u001b[39m{\u001b[39;00mfilepath_or_buffer\u001b[39m}\u001b[39;00m\u001b[39m does not exist\u001b[39m\u001b[39m\"\u001b[39m)\n\u001b[1;32m    876\u001b[0m \u001b[39mreturn\u001b[39;00m filepath_or_buffer\n",
      "\u001b[0;31mFileNotFoundError\u001b[0m: File ../Data/potions.json does not exist"
     ]
    }
   ],
   "source": [
    "df = pd.read_json(\"../Data/potions.json\", orient=\"index\")\n",
    "df"
   ]
  },
  {
   "cell_type": "code",
   "execution_count": null,
   "metadata": {},
   "outputs": [
    {
     "ename": "KeyError",
     "evalue": "\"None of [Index(['Amortentia', 'Antidoto ai Veleni Comuni', 'Tonico per draghi'], dtype='object')] are in the [index]\"",
     "output_type": "error",
     "traceback": [
      "\u001b[1;31m---------------------------------------------------------------------------\u001b[0m",
      "\u001b[1;31mKeyError\u001b[0m                                  Traceback (most recent call last)",
      "Cell \u001b[1;32mIn [15], line 1\u001b[0m\n\u001b[1;32m----> 1\u001b[0m potions_dict \u001b[39m=\u001b[39m df\u001b[39m.\u001b[39;49mloc[[\u001b[39m\"\u001b[39;49m\u001b[39mAmortentia\u001b[39;49m\u001b[39m\"\u001b[39;49m, \u001b[39m\"\u001b[39;49m\u001b[39mAntidoto ai Veleni Comuni\u001b[39;49m\u001b[39m\"\u001b[39;49m, \u001b[39m\"\u001b[39;49m\u001b[39mTonico per draghi\u001b[39;49m\u001b[39m\"\u001b[39;49m]]\u001b[39m.\u001b[39mto_dict()\n\u001b[0;32m      2\u001b[0m potions_dict\n",
      "File \u001b[1;32mc:\\Users\\tunit\\AppData\\Local\\Programs\\Python\\Python310\\lib\\site-packages\\pandas\\core\\indexing.py:1074\u001b[0m, in \u001b[0;36m_LocationIndexer.__getitem__\u001b[1;34m(self, key)\u001b[0m\n\u001b[0;32m   1071\u001b[0m axis \u001b[39m=\u001b[39m \u001b[39mself\u001b[39m\u001b[39m.\u001b[39maxis \u001b[39mor\u001b[39;00m \u001b[39m0\u001b[39m\n\u001b[0;32m   1073\u001b[0m maybe_callable \u001b[39m=\u001b[39m com\u001b[39m.\u001b[39mapply_if_callable(key, \u001b[39mself\u001b[39m\u001b[39m.\u001b[39mobj)\n\u001b[1;32m-> 1074\u001b[0m \u001b[39mreturn\u001b[39;00m \u001b[39mself\u001b[39;49m\u001b[39m.\u001b[39;49m_getitem_axis(maybe_callable, axis\u001b[39m=\u001b[39;49maxis)\n",
      "File \u001b[1;32mc:\\Users\\tunit\\AppData\\Local\\Programs\\Python\\Python310\\lib\\site-packages\\pandas\\core\\indexing.py:1302\u001b[0m, in \u001b[0;36m_LocIndexer._getitem_axis\u001b[1;34m(self, key, axis)\u001b[0m\n\u001b[0;32m   1299\u001b[0m     \u001b[39mif\u001b[39;00m \u001b[39mhasattr\u001b[39m(key, \u001b[39m\"\u001b[39m\u001b[39mndim\u001b[39m\u001b[39m\"\u001b[39m) \u001b[39mand\u001b[39;00m key\u001b[39m.\u001b[39mndim \u001b[39m>\u001b[39m \u001b[39m1\u001b[39m:\n\u001b[0;32m   1300\u001b[0m         \u001b[39mraise\u001b[39;00m \u001b[39mValueError\u001b[39;00m(\u001b[39m\"\u001b[39m\u001b[39mCannot index with multidimensional key\u001b[39m\u001b[39m\"\u001b[39m)\n\u001b[1;32m-> 1302\u001b[0m     \u001b[39mreturn\u001b[39;00m \u001b[39mself\u001b[39;49m\u001b[39m.\u001b[39;49m_getitem_iterable(key, axis\u001b[39m=\u001b[39;49maxis)\n\u001b[0;32m   1304\u001b[0m \u001b[39m# nested tuple slicing\u001b[39;00m\n\u001b[0;32m   1305\u001b[0m \u001b[39mif\u001b[39;00m is_nested_tuple(key, labels):\n",
      "File \u001b[1;32mc:\\Users\\tunit\\AppData\\Local\\Programs\\Python\\Python310\\lib\\site-packages\\pandas\\core\\indexing.py:1240\u001b[0m, in \u001b[0;36m_LocIndexer._getitem_iterable\u001b[1;34m(self, key, axis)\u001b[0m\n\u001b[0;32m   1237\u001b[0m \u001b[39mself\u001b[39m\u001b[39m.\u001b[39m_validate_key(key, axis)\n\u001b[0;32m   1239\u001b[0m \u001b[39m# A collection of keys\u001b[39;00m\n\u001b[1;32m-> 1240\u001b[0m keyarr, indexer \u001b[39m=\u001b[39m \u001b[39mself\u001b[39;49m\u001b[39m.\u001b[39;49m_get_listlike_indexer(key, axis)\n\u001b[0;32m   1241\u001b[0m \u001b[39mreturn\u001b[39;00m \u001b[39mself\u001b[39m\u001b[39m.\u001b[39mobj\u001b[39m.\u001b[39m_reindex_with_indexers(\n\u001b[0;32m   1242\u001b[0m     {axis: [keyarr, indexer]}, copy\u001b[39m=\u001b[39m\u001b[39mTrue\u001b[39;00m, allow_dups\u001b[39m=\u001b[39m\u001b[39mTrue\u001b[39;00m\n\u001b[0;32m   1243\u001b[0m )\n",
      "File \u001b[1;32mc:\\Users\\tunit\\AppData\\Local\\Programs\\Python\\Python310\\lib\\site-packages\\pandas\\core\\indexing.py:1433\u001b[0m, in \u001b[0;36m_LocIndexer._get_listlike_indexer\u001b[1;34m(self, key, axis)\u001b[0m\n\u001b[0;32m   1430\u001b[0m ax \u001b[39m=\u001b[39m \u001b[39mself\u001b[39m\u001b[39m.\u001b[39mobj\u001b[39m.\u001b[39m_get_axis(axis)\n\u001b[0;32m   1431\u001b[0m axis_name \u001b[39m=\u001b[39m \u001b[39mself\u001b[39m\u001b[39m.\u001b[39mobj\u001b[39m.\u001b[39m_get_axis_name(axis)\n\u001b[1;32m-> 1433\u001b[0m keyarr, indexer \u001b[39m=\u001b[39m ax\u001b[39m.\u001b[39;49m_get_indexer_strict(key, axis_name)\n\u001b[0;32m   1435\u001b[0m \u001b[39mreturn\u001b[39;00m keyarr, indexer\n",
      "File \u001b[1;32mc:\\Users\\tunit\\AppData\\Local\\Programs\\Python\\Python310\\lib\\site-packages\\pandas\\core\\indexes\\base.py:6108\u001b[0m, in \u001b[0;36mIndex._get_indexer_strict\u001b[1;34m(self, key, axis_name)\u001b[0m\n\u001b[0;32m   6105\u001b[0m \u001b[39melse\u001b[39;00m:\n\u001b[0;32m   6106\u001b[0m     keyarr, indexer, new_indexer \u001b[39m=\u001b[39m \u001b[39mself\u001b[39m\u001b[39m.\u001b[39m_reindex_non_unique(keyarr)\n\u001b[1;32m-> 6108\u001b[0m \u001b[39mself\u001b[39;49m\u001b[39m.\u001b[39;49m_raise_if_missing(keyarr, indexer, axis_name)\n\u001b[0;32m   6110\u001b[0m keyarr \u001b[39m=\u001b[39m \u001b[39mself\u001b[39m\u001b[39m.\u001b[39mtake(indexer)\n\u001b[0;32m   6111\u001b[0m \u001b[39mif\u001b[39;00m \u001b[39misinstance\u001b[39m(key, Index):\n\u001b[0;32m   6112\u001b[0m     \u001b[39m# GH 42790 - Preserve name from an Index\u001b[39;00m\n",
      "File \u001b[1;32mc:\\Users\\tunit\\AppData\\Local\\Programs\\Python\\Python310\\lib\\site-packages\\pandas\\core\\indexes\\base.py:6168\u001b[0m, in \u001b[0;36mIndex._raise_if_missing\u001b[1;34m(self, key, indexer, axis_name)\u001b[0m\n\u001b[0;32m   6166\u001b[0m     \u001b[39mif\u001b[39;00m use_interval_msg:\n\u001b[0;32m   6167\u001b[0m         key \u001b[39m=\u001b[39m \u001b[39mlist\u001b[39m(key)\n\u001b[1;32m-> 6168\u001b[0m     \u001b[39mraise\u001b[39;00m \u001b[39mKeyError\u001b[39;00m(\u001b[39mf\u001b[39m\u001b[39m\"\u001b[39m\u001b[39mNone of [\u001b[39m\u001b[39m{\u001b[39;00mkey\u001b[39m}\u001b[39;00m\u001b[39m] are in the [\u001b[39m\u001b[39m{\u001b[39;00maxis_name\u001b[39m}\u001b[39;00m\u001b[39m]\u001b[39m\u001b[39m\"\u001b[39m)\n\u001b[0;32m   6170\u001b[0m not_found \u001b[39m=\u001b[39m \u001b[39mlist\u001b[39m(ensure_index(key)[missing_mask\u001b[39m.\u001b[39mnonzero()[\u001b[39m0\u001b[39m]]\u001b[39m.\u001b[39munique())\n\u001b[0;32m   6171\u001b[0m \u001b[39mraise\u001b[39;00m \u001b[39mKeyError\u001b[39;00m(\u001b[39mf\u001b[39m\u001b[39m\"\u001b[39m\u001b[39m{\u001b[39;00mnot_found\u001b[39m}\u001b[39;00m\u001b[39m not in index\u001b[39m\u001b[39m\"\u001b[39m)\n",
      "\u001b[1;31mKeyError\u001b[0m: \"None of [Index(['Amortentia', 'Antidoto ai Veleni Comuni', 'Tonico per draghi'], dtype='object')] are in the [index]\""
     ]
    }
   ],
   "source": [
    "potions_dict = df.loc[[\"Amortentia\", \"Antidoto ai Veleni Comuni\", \"Tonico per draghi\"]].to_dict()\n",
    "potions_dict"
   ]
  },
  {
   "cell_type": "code",
   "execution_count": null,
   "metadata": {},
   "outputs": [
    {
     "ename": "NameError",
     "evalue": "name 'potions_dict' is not defined",
     "output_type": "error",
     "traceback": [
      "\u001b[1;31m---------------------------------------------------------------------------\u001b[0m",
      "\u001b[1;31mNameError\u001b[0m                                 Traceback (most recent call last)",
      "Cell \u001b[1;32mIn [14], line 2\u001b[0m\n\u001b[0;32m      1\u001b[0m cleaned_potions_dict \u001b[39m=\u001b[39m {}\n\u001b[1;32m----> 2\u001b[0m \u001b[39mfor\u001b[39;00m i \u001b[39min\u001b[39;00m potions_dict:\n\u001b[0;32m      3\u001b[0m     tmp_dict \u001b[39m=\u001b[39m {}\n\u001b[0;32m      4\u001b[0m     \u001b[39mfor\u001b[39;00m idx,j \u001b[39min\u001b[39;00m \u001b[39menumerate\u001b[39m(potions_dict[i]):\n",
      "\u001b[1;31mNameError\u001b[0m: name 'potions_dict' is not defined"
     ]
    }
   ],
   "source": [
    "cleaned_potions_dict = {}\n",
    "for i in potions_dict:\n",
    "    tmp_dict = {}\n",
    "    for idx,j in enumerate(potions_dict[i]):\n",
    "        if potions_dict[i][j]:\n",
    "            \n",
    "            lst = potions_dict[i][j].split()\n",
    "            qty = None\n",
    "            for item in lst:\n",
    "                if item.isdigit():\n",
    "                    qty = item\n",
    "            if qty:\n",
    "                lst.remove(str(qty))\n",
    "            else: qty = 1\n",
    "            tmp_dict[[*potions_dict[i].keys()][idx]] = ((qty, \" \".join(lst)))\n",
    "    if tmp_dict:\n",
    "        cleaned_potions_dict[i] = tmp_dict\n",
    "\n",
    "            \n",
    "cleaned_potions_dict"
   ]
  },
  {
   "cell_type": "code",
   "execution_count": null,
   "metadata": {},
   "outputs": [],
   "source": [
    "import json\n",
    "with open(\"../Data/three_potions_test.json\", \"w\") as fp:\n",
    "    json.dump(cleaned_potions_dict, fp)"
   ]
  },
  {
   "cell_type": "code",
   "execution_count": null,
   "metadata": {},
   "outputs": [
    {
     "data": {
      "text/html": [
       "<div>\n",
       "<style scoped>\n",
       "    .dataframe tbody tr th:only-of-type {\n",
       "        vertical-align: middle;\n",
       "    }\n",
       "\n",
       "    .dataframe tbody tr th {\n",
       "        vertical-align: top;\n",
       "    }\n",
       "\n",
       "    .dataframe thead th {\n",
       "        text-align: right;\n",
       "    }\n",
       "</style>\n",
       "<table border=\"1\" class=\"dataframe\">\n",
       "  <thead>\n",
       "    <tr style=\"text-align: right;\">\n",
       "      <th></th>\n",
       "      <th>0</th>\n",
       "      <th>1</th>\n",
       "      <th>2</th>\n",
       "      <th>3</th>\n",
       "    </tr>\n",
       "  </thead>\n",
       "  <tbody>\n",
       "    <tr>\n",
       "      <th>Amortentia</th>\n",
       "      <td>(1, Acqua di Luna)</td>\n",
       "      <td>(1, Uova di Ashwinder)</td>\n",
       "      <td>(1, Petali di Rosa)</td>\n",
       "      <td>(1, Peperoncino in polvere)</td>\n",
       "    </tr>\n",
       "    <tr>\n",
       "      <th>Antidoto ai Veleni Comuni</th>\n",
       "      <td>(1, Bezoar)</td>\n",
       "      <td>(2, Bacche di Vischio)</td>\n",
       "      <td>(2, misurini di Ingrediente Base)</td>\n",
       "      <td>(1, Corno di Unicorno)</td>\n",
       "    </tr>\n",
       "    <tr>\n",
       "      <th>Tonico per draghi</th>\n",
       "      <td>(1, piuma di gufo reale)</td>\n",
       "      <td>(3, piume di pavone)</td>\n",
       "      <td>(3, verruche giganti di rospo viola)</td>\n",
       "      <td>NaN</td>\n",
       "    </tr>\n",
       "  </tbody>\n",
       "</table>\n",
       "</div>"
      ],
      "text/plain": [
       "                                                  0                       1  \\\n",
       "Amortentia                       (1, Acqua di Luna)  (1, Uova di Ashwinder)   \n",
       "Antidoto ai Veleni Comuni               (1, Bezoar)  (2, Bacche di Vischio)   \n",
       "Tonico per draghi          (1, piuma di gufo reale)    (3, piume di pavone)   \n",
       "\n",
       "                                                              2  \\\n",
       "Amortentia                                  (1, Petali di Rosa)   \n",
       "Antidoto ai Veleni Comuni     (2, misurini di Ingrediente Base)   \n",
       "Tonico per draghi          (3, verruche giganti di rospo viola)   \n",
       "\n",
       "                                                     3  \n",
       "Amortentia                 (1, Peperoncino in polvere)  \n",
       "Antidoto ai Veleni Comuni       (1, Corno di Unicorno)  \n",
       "Tonico per draghi                                  NaN  "
      ]
     },
     "execution_count": 6,
     "metadata": {},
     "output_type": "execute_result"
    }
   ],
   "source": [
    "potions_df = pd.DataFrame(cleaned_potions_dict)\n",
    "potions_df"
   ]
  },
  {
   "cell_type": "code",
   "execution_count": null,
   "metadata": {},
   "outputs": [
    {
     "data": {
      "text/plain": [
       "['Amortentia', 'Antidoto ai Veleni Comuni', 'Tonico per draghi']"
      ]
     },
     "execution_count": 7,
     "metadata": {},
     "output_type": "execute_result"
    }
   ],
   "source": [
    "true_frame = {}\n",
    "potions_df[0].index.to_list()\n",
    "# true_frame[0] = potions_df.loc[\"Amortentia\"].to_dict()\n",
    "# true_frame\n"
   ]
  },
  {
   "cell_type": "code",
   "execution_count": 17,
   "metadata": {},
   "outputs": [
    {
     "name": "stdout",
     "output_type": "stream",
     "text": [
      "[True, True]\n",
      "False\n"
     ]
    }
   ],
   "source": [
    "l = [\"moon wine\", \"wine\"]\n",
    "item = \"wine\"\n",
    "for i in range(0,1):\n",
    "    print([l[elem] != item[1] for elem in range(0,l.index(item)+1)])\n",
    "    print(item in [l[elem] and l[elem] != item[1] for elem in range(0,l.index(item)+1)])"
   ]
  },
  {
   "cell_type": "code",
   "execution_count": 8,
   "metadata": {},
   "outputs": [
    {
     "data": {
      "text/html": [
       "<span class=\"tex2jax_ignore\"><svg xmlns=\"http://www.w3.org/2000/svg\" xmlns:xlink=\"http://www.w3.org/1999/xlink\" xml:lang=\"en\" id=\"a8192eb1606c440dbf10a9b91ec135c5-0\" class=\"displacy\" width=\"1275\" height=\"312.0\" direction=\"ltr\" style=\"max-width: none; height: 312.0px; color: #000000; background: #ffffff; font-family: Arial; direction: ltr\">\n",
       "<text class=\"displacy-token\" fill=\"currentColor\" text-anchor=\"middle\" y=\"222.0\">\n",
       "    <tspan class=\"displacy-word\" fill=\"currentColor\" x=\"50\">the</tspan>\n",
       "    <tspan class=\"displacy-tag\" dy=\"2em\" fill=\"currentColor\" x=\"50\">DET</tspan>\n",
       "</text>\n",
       "\n",
       "<text class=\"displacy-token\" fill=\"currentColor\" text-anchor=\"middle\" y=\"222.0\">\n",
       "    <tspan class=\"displacy-word\" fill=\"currentColor\" x=\"225\">first</tspan>\n",
       "    <tspan class=\"displacy-tag\" dy=\"2em\" fill=\"currentColor\" x=\"225\">ADJ</tspan>\n",
       "</text>\n",
       "\n",
       "<text class=\"displacy-token\" fill=\"currentColor\" text-anchor=\"middle\" y=\"222.0\">\n",
       "    <tspan class=\"displacy-word\" fill=\"currentColor\" x=\"400\">ingredient</tspan>\n",
       "    <tspan class=\"displacy-tag\" dy=\"2em\" fill=\"currentColor\" x=\"400\">NOUN</tspan>\n",
       "</text>\n",
       "\n",
       "<text class=\"displacy-token\" fill=\"currentColor\" text-anchor=\"middle\" y=\"222.0\">\n",
       "    <tspan class=\"displacy-word\" fill=\"currentColor\" x=\"575\">is</tspan>\n",
       "    <tspan class=\"displacy-tag\" dy=\"2em\" fill=\"currentColor\" x=\"575\">AUX</tspan>\n",
       "</text>\n",
       "\n",
       "<text class=\"displacy-token\" fill=\"currentColor\" text-anchor=\"middle\" y=\"222.0\">\n",
       "    <tspan class=\"displacy-word\" fill=\"currentColor\" x=\"750\">n't</tspan>\n",
       "    <tspan class=\"displacy-tag\" dy=\"2em\" fill=\"currentColor\" x=\"750\">PART</tspan>\n",
       "</text>\n",
       "\n",
       "<text class=\"displacy-token\" fill=\"currentColor\" text-anchor=\"middle\" y=\"222.0\">\n",
       "    <tspan class=\"displacy-word\" fill=\"currentColor\" x=\"925\">moon</tspan>\n",
       "    <tspan class=\"displacy-tag\" dy=\"2em\" fill=\"currentColor\" x=\"925\">NOUN</tspan>\n",
       "</text>\n",
       "\n",
       "<text class=\"displacy-token\" fill=\"currentColor\" text-anchor=\"middle\" y=\"222.0\">\n",
       "    <tspan class=\"displacy-word\" fill=\"currentColor\" x=\"1100\">water</tspan>\n",
       "    <tspan class=\"displacy-tag\" dy=\"2em\" fill=\"currentColor\" x=\"1100\">NOUN</tspan>\n",
       "</text>\n",
       "\n",
       "<g class=\"displacy-arrow\">\n",
       "    <path class=\"displacy-arc\" id=\"arrow-a8192eb1606c440dbf10a9b91ec135c5-0-0\" stroke-width=\"2px\" d=\"M70,177.0 C70,2.0 400.0,2.0 400.0,177.0\" fill=\"none\" stroke=\"currentColor\"/>\n",
       "    <text dy=\"1.25em\" style=\"font-size: 0.8em; letter-spacing: 1px\">\n",
       "        <textPath xlink:href=\"#arrow-a8192eb1606c440dbf10a9b91ec135c5-0-0\" class=\"displacy-label\" startOffset=\"50%\" side=\"left\" fill=\"currentColor\" text-anchor=\"middle\">det</textPath>\n",
       "    </text>\n",
       "    <path class=\"displacy-arrowhead\" d=\"M70,179.0 L62,167.0 78,167.0\" fill=\"currentColor\"/>\n",
       "</g>\n",
       "\n",
       "<g class=\"displacy-arrow\">\n",
       "    <path class=\"displacy-arc\" id=\"arrow-a8192eb1606c440dbf10a9b91ec135c5-0-1\" stroke-width=\"2px\" d=\"M245,177.0 C245,89.5 395.0,89.5 395.0,177.0\" fill=\"none\" stroke=\"currentColor\"/>\n",
       "    <text dy=\"1.25em\" style=\"font-size: 0.8em; letter-spacing: 1px\">\n",
       "        <textPath xlink:href=\"#arrow-a8192eb1606c440dbf10a9b91ec135c5-0-1\" class=\"displacy-label\" startOffset=\"50%\" side=\"left\" fill=\"currentColor\" text-anchor=\"middle\">amod</textPath>\n",
       "    </text>\n",
       "    <path class=\"displacy-arrowhead\" d=\"M245,179.0 L237,167.0 253,167.0\" fill=\"currentColor\"/>\n",
       "</g>\n",
       "\n",
       "<g class=\"displacy-arrow\">\n",
       "    <path class=\"displacy-arc\" id=\"arrow-a8192eb1606c440dbf10a9b91ec135c5-0-2\" stroke-width=\"2px\" d=\"M420,177.0 C420,89.5 570.0,89.5 570.0,177.0\" fill=\"none\" stroke=\"currentColor\"/>\n",
       "    <text dy=\"1.25em\" style=\"font-size: 0.8em; letter-spacing: 1px\">\n",
       "        <textPath xlink:href=\"#arrow-a8192eb1606c440dbf10a9b91ec135c5-0-2\" class=\"displacy-label\" startOffset=\"50%\" side=\"left\" fill=\"currentColor\" text-anchor=\"middle\">nsubj</textPath>\n",
       "    </text>\n",
       "    <path class=\"displacy-arrowhead\" d=\"M420,179.0 L412,167.0 428,167.0\" fill=\"currentColor\"/>\n",
       "</g>\n",
       "\n",
       "<g class=\"displacy-arrow\">\n",
       "    <path class=\"displacy-arc\" id=\"arrow-a8192eb1606c440dbf10a9b91ec135c5-0-3\" stroke-width=\"2px\" d=\"M595,177.0 C595,89.5 745.0,89.5 745.0,177.0\" fill=\"none\" stroke=\"currentColor\"/>\n",
       "    <text dy=\"1.25em\" style=\"font-size: 0.8em; letter-spacing: 1px\">\n",
       "        <textPath xlink:href=\"#arrow-a8192eb1606c440dbf10a9b91ec135c5-0-3\" class=\"displacy-label\" startOffset=\"50%\" side=\"left\" fill=\"currentColor\" text-anchor=\"middle\">neg</textPath>\n",
       "    </text>\n",
       "    <path class=\"displacy-arrowhead\" d=\"M745.0,179.0 L753.0,167.0 737.0,167.0\" fill=\"currentColor\"/>\n",
       "</g>\n",
       "\n",
       "<g class=\"displacy-arrow\">\n",
       "    <path class=\"displacy-arc\" id=\"arrow-a8192eb1606c440dbf10a9b91ec135c5-0-4\" stroke-width=\"2px\" d=\"M945,177.0 C945,89.5 1095.0,89.5 1095.0,177.0\" fill=\"none\" stroke=\"currentColor\"/>\n",
       "    <text dy=\"1.25em\" style=\"font-size: 0.8em; letter-spacing: 1px\">\n",
       "        <textPath xlink:href=\"#arrow-a8192eb1606c440dbf10a9b91ec135c5-0-4\" class=\"displacy-label\" startOffset=\"50%\" side=\"left\" fill=\"currentColor\" text-anchor=\"middle\">compound</textPath>\n",
       "    </text>\n",
       "    <path class=\"displacy-arrowhead\" d=\"M945,179.0 L937,167.0 953,167.0\" fill=\"currentColor\"/>\n",
       "</g>\n",
       "\n",
       "<g class=\"displacy-arrow\">\n",
       "    <path class=\"displacy-arc\" id=\"arrow-a8192eb1606c440dbf10a9b91ec135c5-0-5\" stroke-width=\"2px\" d=\"M595,177.0 C595,2.0 1100.0,2.0 1100.0,177.0\" fill=\"none\" stroke=\"currentColor\"/>\n",
       "    <text dy=\"1.25em\" style=\"font-size: 0.8em; letter-spacing: 1px\">\n",
       "        <textPath xlink:href=\"#arrow-a8192eb1606c440dbf10a9b91ec135c5-0-5\" class=\"displacy-label\" startOffset=\"50%\" side=\"left\" fill=\"currentColor\" text-anchor=\"middle\">attr</textPath>\n",
       "    </text>\n",
       "    <path class=\"displacy-arrowhead\" d=\"M1100.0,179.0 L1108.0,167.0 1092.0,167.0\" fill=\"currentColor\"/>\n",
       "</g>\n",
       "</svg></span>"
      ],
      "text/plain": [
       "<IPython.core.display.HTML object>"
      ]
     },
     "metadata": {},
     "output_type": "display_data"
    }
   ],
   "source": [
    "from spacy import displacy\n",
    "import spacy\n",
    "from spacy.matcher import DependencyMatcher\n",
    "\n",
    "nlp = spacy.load(\"en_core_web_sm\")\n",
    "doc = nlp(\"the first ingredient isn't moon water\")\n",
    "displacy.render(doc)\n"
   ]
  },
  {
   "cell_type": "code",
   "execution_count": null,
   "metadata": {},
   "outputs": [],
   "source": [
    "doc = nlp(\"Un ingrediente è il bezoar\")\n",
    "# displacy.render(doc)"
   ]
  },
  {
   "cell_type": "code",
   "execution_count": null,
   "metadata": {},
   "outputs": [],
   "source": [
    "doc = nlp(\"Il bezoar è un'ingrediente\")\n",
    "# displacy.render(doc)"
   ]
  },
  {
   "cell_type": "code",
   "execution_count": null,
   "metadata": {},
   "outputs": [
    {
     "data": {
      "text/html": [
       "<span class=\"tex2jax_ignore\"><svg xmlns=\"http://www.w3.org/2000/svg\" xmlns:xlink=\"http://www.w3.org/1999/xlink\" xml:lang=\"it\" id=\"e2cf3b22b8cb452ba011ff55d5639f13-0\" class=\"displacy\" width=\"1275\" height=\"399.5\" direction=\"ltr\" style=\"max-width: none; height: 399.5px; color: #000000; background: #ffffff; font-family: Arial; direction: ltr\">\n",
       "<text class=\"displacy-token\" fill=\"currentColor\" text-anchor=\"middle\" y=\"309.5\">\n",
       "    <tspan class=\"displacy-word\" fill=\"currentColor\" x=\"50\">Gli</tspan>\n",
       "    <tspan class=\"displacy-tag\" dy=\"2em\" fill=\"currentColor\" x=\"50\">DET</tspan>\n",
       "</text>\n",
       "\n",
       "<text class=\"displacy-token\" fill=\"currentColor\" text-anchor=\"middle\" y=\"309.5\">\n",
       "    <tspan class=\"displacy-word\" fill=\"currentColor\" x=\"225\">ingredienti</tspan>\n",
       "    <tspan class=\"displacy-tag\" dy=\"2em\" fill=\"currentColor\" x=\"225\">NOUN</tspan>\n",
       "</text>\n",
       "\n",
       "<text class=\"displacy-token\" fill=\"currentColor\" text-anchor=\"middle\" y=\"309.5\">\n",
       "    <tspan class=\"displacy-word\" fill=\"currentColor\" x=\"400\">sono</tspan>\n",
       "    <tspan class=\"displacy-tag\" dy=\"2em\" fill=\"currentColor\" x=\"400\">AUX</tspan>\n",
       "</text>\n",
       "\n",
       "<text class=\"displacy-token\" fill=\"currentColor\" text-anchor=\"middle\" y=\"309.5\">\n",
       "    <tspan class=\"displacy-word\" fill=\"currentColor\" x=\"575\">2</tspan>\n",
       "    <tspan class=\"displacy-tag\" dy=\"2em\" fill=\"currentColor\" x=\"575\">NUM</tspan>\n",
       "</text>\n",
       "\n",
       "<text class=\"displacy-token\" fill=\"currentColor\" text-anchor=\"middle\" y=\"309.5\">\n",
       "    <tspan class=\"displacy-word\" fill=\"currentColor\" x=\"750\">bacche</tspan>\n",
       "    <tspan class=\"displacy-tag\" dy=\"2em\" fill=\"currentColor\" x=\"750\">NOUN</tspan>\n",
       "</text>\n",
       "\n",
       "<text class=\"displacy-token\" fill=\"currentColor\" text-anchor=\"middle\" y=\"309.5\">\n",
       "    <tspan class=\"displacy-word\" fill=\"currentColor\" x=\"925\">di</tspan>\n",
       "    <tspan class=\"displacy-tag\" dy=\"2em\" fill=\"currentColor\" x=\"925\">ADP</tspan>\n",
       "</text>\n",
       "\n",
       "<text class=\"displacy-token\" fill=\"currentColor\" text-anchor=\"middle\" y=\"309.5\">\n",
       "    <tspan class=\"displacy-word\" fill=\"currentColor\" x=\"1100\">vischio</tspan>\n",
       "    <tspan class=\"displacy-tag\" dy=\"2em\" fill=\"currentColor\" x=\"1100\">NOUN</tspan>\n",
       "</text>\n",
       "\n",
       "<g class=\"displacy-arrow\">\n",
       "    <path class=\"displacy-arc\" id=\"arrow-e2cf3b22b8cb452ba011ff55d5639f13-0-0\" stroke-width=\"2px\" d=\"M70,264.5 C70,177.0 215.0,177.0 215.0,264.5\" fill=\"none\" stroke=\"currentColor\"/>\n",
       "    <text dy=\"1.25em\" style=\"font-size: 0.8em; letter-spacing: 1px\">\n",
       "        <textPath xlink:href=\"#arrow-e2cf3b22b8cb452ba011ff55d5639f13-0-0\" class=\"displacy-label\" startOffset=\"50%\" side=\"left\" fill=\"currentColor\" text-anchor=\"middle\">det</textPath>\n",
       "    </text>\n",
       "    <path class=\"displacy-arrowhead\" d=\"M70,266.5 L62,254.5 78,254.5\" fill=\"currentColor\"/>\n",
       "</g>\n",
       "\n",
       "<g class=\"displacy-arrow\">\n",
       "    <path class=\"displacy-arc\" id=\"arrow-e2cf3b22b8cb452ba011ff55d5639f13-0-1\" stroke-width=\"2px\" d=\"M245,264.5 C245,2.0 750.0,2.0 750.0,264.5\" fill=\"none\" stroke=\"currentColor\"/>\n",
       "    <text dy=\"1.25em\" style=\"font-size: 0.8em; letter-spacing: 1px\">\n",
       "        <textPath xlink:href=\"#arrow-e2cf3b22b8cb452ba011ff55d5639f13-0-1\" class=\"displacy-label\" startOffset=\"50%\" side=\"left\" fill=\"currentColor\" text-anchor=\"middle\">nsubj</textPath>\n",
       "    </text>\n",
       "    <path class=\"displacy-arrowhead\" d=\"M245,266.5 L237,254.5 253,254.5\" fill=\"currentColor\"/>\n",
       "</g>\n",
       "\n",
       "<g class=\"displacy-arrow\">\n",
       "    <path class=\"displacy-arc\" id=\"arrow-e2cf3b22b8cb452ba011ff55d5639f13-0-2\" stroke-width=\"2px\" d=\"M420,264.5 C420,89.5 745.0,89.5 745.0,264.5\" fill=\"none\" stroke=\"currentColor\"/>\n",
       "    <text dy=\"1.25em\" style=\"font-size: 0.8em; letter-spacing: 1px\">\n",
       "        <textPath xlink:href=\"#arrow-e2cf3b22b8cb452ba011ff55d5639f13-0-2\" class=\"displacy-label\" startOffset=\"50%\" side=\"left\" fill=\"currentColor\" text-anchor=\"middle\">cop</textPath>\n",
       "    </text>\n",
       "    <path class=\"displacy-arrowhead\" d=\"M420,266.5 L412,254.5 428,254.5\" fill=\"currentColor\"/>\n",
       "</g>\n",
       "\n",
       "<g class=\"displacy-arrow\">\n",
       "    <path class=\"displacy-arc\" id=\"arrow-e2cf3b22b8cb452ba011ff55d5639f13-0-3\" stroke-width=\"2px\" d=\"M595,264.5 C595,177.0 740.0,177.0 740.0,264.5\" fill=\"none\" stroke=\"currentColor\"/>\n",
       "    <text dy=\"1.25em\" style=\"font-size: 0.8em; letter-spacing: 1px\">\n",
       "        <textPath xlink:href=\"#arrow-e2cf3b22b8cb452ba011ff55d5639f13-0-3\" class=\"displacy-label\" startOffset=\"50%\" side=\"left\" fill=\"currentColor\" text-anchor=\"middle\">nummod</textPath>\n",
       "    </text>\n",
       "    <path class=\"displacy-arrowhead\" d=\"M595,266.5 L587,254.5 603,254.5\" fill=\"currentColor\"/>\n",
       "</g>\n",
       "\n",
       "<g class=\"displacy-arrow\">\n",
       "    <path class=\"displacy-arc\" id=\"arrow-e2cf3b22b8cb452ba011ff55d5639f13-0-4\" stroke-width=\"2px\" d=\"M945,264.5 C945,177.0 1090.0,177.0 1090.0,264.5\" fill=\"none\" stroke=\"currentColor\"/>\n",
       "    <text dy=\"1.25em\" style=\"font-size: 0.8em; letter-spacing: 1px\">\n",
       "        <textPath xlink:href=\"#arrow-e2cf3b22b8cb452ba011ff55d5639f13-0-4\" class=\"displacy-label\" startOffset=\"50%\" side=\"left\" fill=\"currentColor\" text-anchor=\"middle\">case</textPath>\n",
       "    </text>\n",
       "    <path class=\"displacy-arrowhead\" d=\"M945,266.5 L937,254.5 953,254.5\" fill=\"currentColor\"/>\n",
       "</g>\n",
       "\n",
       "<g class=\"displacy-arrow\">\n",
       "    <path class=\"displacy-arc\" id=\"arrow-e2cf3b22b8cb452ba011ff55d5639f13-0-5\" stroke-width=\"2px\" d=\"M770,264.5 C770,89.5 1095.0,89.5 1095.0,264.5\" fill=\"none\" stroke=\"currentColor\"/>\n",
       "    <text dy=\"1.25em\" style=\"font-size: 0.8em; letter-spacing: 1px\">\n",
       "        <textPath xlink:href=\"#arrow-e2cf3b22b8cb452ba011ff55d5639f13-0-5\" class=\"displacy-label\" startOffset=\"50%\" side=\"left\" fill=\"currentColor\" text-anchor=\"middle\">nmod</textPath>\n",
       "    </text>\n",
       "    <path class=\"displacy-arrowhead\" d=\"M1095.0,266.5 L1103.0,254.5 1087.0,254.5\" fill=\"currentColor\"/>\n",
       "</g>\n",
       "</svg></span>"
      ],
      "text/plain": [
       "<IPython.core.display.HTML object>"
      ]
     },
     "metadata": {},
     "output_type": "display_data"
    }
   ],
   "source": [
    "doc = nlp(\"Gli ingredienti sono 2 bacche di vischio\")\n",
    "displacy.render(doc)"
   ]
  },
  {
   "cell_type": "code",
   "execution_count": null,
   "metadata": {},
   "outputs": [],
   "source": [
    "doc = nlp(\"è composta da: acqua di luna, un Uovo di Ashwinder e un petalo di rosa\")\n",
    "# displacy.render(doc)"
   ]
  },
  {
   "cell_type": "code",
   "execution_count": null,
   "metadata": {},
   "outputs": [],
   "source": [
    "doc = nlp(\"le uova di Ashwinder non sono un ingrediente\")\n",
    "# displacy.render(doc)"
   ]
  },
  {
   "cell_type": "code",
   "execution_count": null,
   "metadata": {},
   "outputs": [],
   "source": [
    "doc = nlp(\"l'acqua di luna è un'ingrediente, le uova di ashwinder no\")\n",
    "# displacy.render(doc)"
   ]
  },
  {
   "cell_type": "code",
   "execution_count": null,
   "metadata": {},
   "outputs": [],
   "source": [
    "doc = nlp(\"l'acqua di luna non è un'ingrediente\")\n",
    "# displacy.render(doc)"
   ]
  },
  {
   "cell_type": "code",
   "execution_count": null,
   "metadata": {},
   "outputs": [],
   "source": [
    "doc = nlp(\"le uova di Ashwinder non sono un ingrediente\")\n",
    "# displacy.render(doc)"
   ]
  },
  {
   "cell_type": "code",
   "execution_count": null,
   "metadata": {},
   "outputs": [
    {
     "name": "stdout",
     "output_type": "stream",
     "text": [
      "['the', 'first', 'ingredient', 'is', 'one', 'moon', 'water']\n",
      "the first ingredient is one moon water\n"
     ]
    }
   ],
   "source": [
    "from word2number import w2n\n",
    "from nltk.tokenize import word_tokenize\n",
    "from nltk.tokenize.treebank import TreebankWordDetokenizer\n",
    "\n",
    "doc = \"the first ingredient is one moon water\"\n",
    "# displacy.render(doc)\n",
    "t = word_tokenize(doc)\n",
    "print(t)\n",
    "for idx in t:\n",
    "    try:\n",
    "        print(t[idx])\n",
    "        t[idx] = w2n.word_to_num(t[idx])\n",
    "\n",
    "    except:\n",
    "        pass\n",
    "\n",
    "print(TreebankWordDetokenizer().detokenize(t))\n",
    "\n",
    "\n",
    "# print((\"a\"))"
   ]
  },
  {
   "cell_type": "code",
   "execution_count": null,
   "metadata": {},
   "outputs": [
    {
     "name": "stderr",
     "output_type": "stream",
     "text": [
      "\n",
      "KeyboardInterrupt\n",
      "\n"
     ]
    }
   ],
   "source": [
    "import json\n",
    "save = True\n",
    "matcher = DependencyMatcher(nlp.vocab)\n",
    "# left -> right\n",
    "\n",
    "# Find quantity of ingredient\n",
    "patterns_qty = [\n",
    "    [\n",
    "        {\n",
    "            \"RIGHT_ID\": \"num\",\n",
    "            \"RIGHT_ATTRS\": {\"POS\": \"NUM\", \"DEP\": \"nummod\"}\n",
    "        },\n",
    "        {\n",
    "            \"LEFT_ID\": \"num\",\n",
    "            \"REL_OP\": \"<\",\n",
    "            \"RIGHT_ID\": \"nummod\",\n",
    "            \"RIGHT_ATTRS\": {\"POS\": \"NOUN\"}\n",
    "        }\n",
    "    ]\n",
    "]\n",
    "\n",
    "\n",
    "matcher.add(\"Quantity\", patterns_qty)\n",
    "\n",
    "# -------------------------------------------------------------------\n",
    "# Find Ingredients\n",
    "patterns_ingredients = [\n",
    "    [\n",
    "        {\n",
    "            \"RIGHT_ID\": \"ingredient\",\n",
    "            \"RIGHT_ATTRS\": {\"POS\": \"NOUN\"}\n",
    "        },\n",
    "        {\n",
    "            \"LEFT_ID\": \"ingredient\",\n",
    "            \"REL_OP\": \">\",\n",
    "            \"RIGHT_ID\": \"nmod\",\n",
    "            \"RIGHT_ATTRS\": {\"DEP\": \"nmod\"}\n",
    "        },\n",
    "        {\n",
    "            \"LEFT_ID\": \"nmod\",\n",
    "            \"REL_OP\": \">\",\n",
    "            \"RIGHT_ID\": \"case\",\n",
    "            \"RIGHT_ATTRS\": {\"DEP\": \"case\"}\n",
    "        }    \n",
    "    ]\n",
    "    ,\n",
    "    [\n",
    "        {\n",
    "            \"RIGHT_ID\": \"ingredient\",\n",
    "            \"RIGHT_ATTRS\": {\"DEP\": \"conj\"}\n",
    "        }\n",
    "    ],\n",
    "    [\n",
    "        {\n",
    "            \"RIGHT_ID\": \"ingredient\",\n",
    "            \"RIGHT_ATTRS\": {\"DEP\": \"conj\"}\n",
    "        },\n",
    "        {\n",
    "            \"LEFT_ID\": \"ingredient\",\n",
    "            \"REL_OP\": \">\",\n",
    "            \"RIGHT_ID\": \"nmod\",\n",
    "            \"RIGHT_ATTRS\": {\"DEP\": \"nmod\"}\n",
    "        },\n",
    "        {\n",
    "            \"LEFT_ID\": \"nmod\",\n",
    "            \"REL_OP\": \">\",\n",
    "            \"RIGHT_ID\": \"case\",\n",
    "            \"RIGHT_ATTRS\": {\"DEP\": \"case\"}\n",
    "        }    \n",
    "    ],\n",
    "    [\n",
    "        {\n",
    "            \"RIGHT_ID\": \"ingredient\",\n",
    "            \"RIGHT_ATTRS\": {\"POS\": \"NOUN\",\"DEP\": \"nsubj\"}\n",
    "        }\n",
    "    ],\n",
    "    [\n",
    "        {\n",
    "            \"RIGHT_ID\": \"ingredient\",\n",
    "            \"RIGHT_ATTRS\": {\"POS\": \"NOUN\",\"DEP\": \"ROOT\"}\n",
    "        }\n",
    "    ]\n",
    "\n",
    "]\n",
    "\n",
    "matcher.add(\"Ingredients\", patterns_ingredients)\n",
    "\n",
    "# -------------------------------------------------------------------\n",
    "# Find is an ingredient rel\n",
    "patterns_is_ingredient = [\n",
    "    [\n",
    "        {\n",
    "            \"RIGHT_ID\": \"ingredient\",\n",
    "            \"RIGHT_ATTRS\": {\"POS\": \"NOUN\"}\n",
    "        },\n",
    "        {\n",
    "            \"LEFT_ID\": \"ingredient\",\n",
    "            \"REL_OP\": \">\",\n",
    "            \"RIGHT_ID\": \"subj\",\n",
    "            \"RIGHT_ATTRS\": {\"DEP\": \"nsubj\"}\n",
    "        }\n",
    "    ],\n",
    "    [\n",
    "        {\n",
    "            \"RIGHT_ID\": \"verb\",\n",
    "            \"RIGHT_ATTRS\": {\"POS\": \"VERB\"}\n",
    "        },\n",
    "        {\n",
    "            \"LEFT_ID\": \"verb\",\n",
    "            \"REL_OP\": \">\",\n",
    "            \"RIGHT_ID\": \"obl:agent\",\n",
    "            \"RIGHT_ATTRS\": {\"DEP\": \"obl:agent\"}\n",
    "        }\n",
    "    ],\n",
    "    [\n",
    "        {\n",
    "            \"RIGHT_ID\": \"ingredient\",\n",
    "            \"RIGHT_ATTRS\": {\"POS\": \"NOUN\",\"DEP\":\"conj\"}\n",
    "        },\n",
    "        {\n",
    "            \"LEFT_ID\": \"ingredient\",\n",
    "            \"REL_OP\": \"$--\",\n",
    "            \"RIGHT_ID\": \"subj\",\n",
    "            \"RIGHT_ATTRS\": {\"DEP\": \"nsubj\"}\n",
    "        }\n",
    "    ],\n",
    "    [\n",
    "        {\n",
    "            \"RIGHT_ID\": \"verb\",\n",
    "            \"RIGHT_ATTRS\": {\"POS\": \"VERB\"}\n",
    "        },\n",
    "        {\n",
    "            \"LEFT_ID\": \"verb\",\n",
    "            \"REL_OP\": \">>\",\n",
    "            \"RIGHT_ID\": \"conj\",\n",
    "            \"RIGHT_ATTRS\": {\"DEP\": \"conj\"}\n",
    "        }\n",
    "    ]\n",
    "]\n",
    "\n",
    "matcher.add(\"is_ingredient\", patterns_is_ingredient)\n",
    "\n",
    "# -------------------------------------------------------------------\n",
    "# Find is NOT an ingredient\n",
    "patterns_is_not_ingredient = [\n",
    "    [\n",
    "        {\n",
    "            \"RIGHT_ID\": \"verb\",\n",
    "            \"RIGHT_ATTRS\": {\"POS\": \"VERB\"}\n",
    "        },\n",
    "        {\n",
    "            \"LEFT_ID\": \"verb\",\n",
    "            \"REL_OP\": \">\",\n",
    "            \"RIGHT_ID\": \"advmod\",\n",
    "            \"RIGHT_ATTRS\": {\"DEP\": \"advmod\"}\n",
    "        }\n",
    "    ],\n",
    "    [\n",
    "        {\n",
    "            \"RIGHT_ID\": \"verb\",\n",
    "            \"RIGHT_ATTRS\": {\"POS\": \"VERB\"}\n",
    "        },\n",
    "        {\n",
    "            \"LEFT_ID\": \"verb\",\n",
    "            \"REL_OP\": \">\",\n",
    "            \"RIGHT_ID\": \"advmod\",\n",
    "            \"RIGHT_ATTRS\": {\"DEP\": \"advmod\"}\n",
    "        },\n",
    "        {\n",
    "            \"LEFT_ID\": \"verb\",\n",
    "            \"REL_OP\": \">\",\n",
    "            \"RIGHT_ID\": \"obj\",\n",
    "            \"RIGHT_ATTRS\": {\"DEP\": \"obj\"}\n",
    "        },\n",
    "        {\n",
    "            \"LEFT_ID\": \"verb\",\n",
    "            \"REL_OP\": \">\",\n",
    "            \"RIGHT_ID\": \"obl\",\n",
    "            \"RIGHT_ATTRS\": {\"DEP\": \"obl\"}\n",
    "        }\n",
    "    ],\n",
    "    [\n",
    "        {\n",
    "            \"RIGHT_ID\": \"ingredient\",\n",
    "            \"RIGHT_ATTRS\": {\"POS\": \"NOUN\"}\n",
    "        },\n",
    "        {\n",
    "            \"LEFT_ID\": \"ingredient\",\n",
    "            \"REL_OP\": \">\",\n",
    "            \"RIGHT_ID\": \"appos\",\n",
    "            \"RIGHT_ATTRS\": {\"DEP\": \"appos\"}\n",
    "        },\n",
    "        {\n",
    "            \"LEFT_ID\": \"ingredient\",\n",
    "            \"REL_OP\": \">\",\n",
    "            \"RIGHT_ID\": \"advmod\",\n",
    "            \"RIGHT_ATTRS\": {\"DEP\": \"advmod\"}\n",
    "        }\n",
    "    ],\n",
    "    [\n",
    "        {\n",
    "            \"RIGHT_ID\": \"ingredient\",\n",
    "            \"RIGHT_ATTRS\": {\"POS\": \"NOUN\"}\n",
    "        },\n",
    "        {\n",
    "            \"LEFT_ID\": \"ingredient\",\n",
    "            \"REL_OP\": \">\",\n",
    "            \"RIGHT_ID\": \"nsubj\",\n",
    "            \"RIGHT_ATTRS\": {\"DEP\": \"nsubj\", \"POS\": \"NOUN\"}\n",
    "        },\n",
    "        {\n",
    "            \"LEFT_ID\": \"ingredient\",\n",
    "            \"REL_OP\": \">\",\n",
    "            \"RIGHT_ID\": \"advmod\",\n",
    "            \"RIGHT_ATTRS\": {\"DEP\": \"advmod\"}\n",
    "        },\n",
    "        {\n",
    "            \"LEFT_ID\": \"advmod\",\n",
    "            \"REL_OP\": \".\",\n",
    "            \"RIGHT_ID\": \"aux\",\n",
    "            \"RIGHT_ATTRS\": {\"DEP\": \"cop\"}\n",
    "        }\n",
    "    ]\n",
    "]\n",
    "\n",
    "matcher.add(\"Is_not_ingredient\", patterns_is_not_ingredient)\n",
    "# -------------------------------------------------------------------\n",
    "\n",
    "\n",
    "if save:\n",
    "    with open(\"../Data/rules_qty.json\", \"w\") as fp:\n",
    "        json.dump(patterns_qty,fp)\n",
    "    with open(\"../Data/rules_ingredients.json\", \"w\") as fp:\n",
    "        json.dump(patterns_ingredients,fp)\n",
    "    with open(\"../Data/rules_is_ingredient.json\", \"w\") as fp:\n",
    "        json.dump(patterns_is_ingredient,fp)\n",
    "    with open(\"../Data/rules_is_not_ingredient.json\", \"w\") as fp:\n",
    "        json.dump(patterns_is_not_ingredient,fp)\n",
    "\n"
   ]
  },
  {
   "cell_type": "code",
   "execution_count": null,
   "metadata": {},
   "outputs": [
    {
     "data": {
      "text/plain": [
       "[(7584395925188342621, [6, 7]),\n",
       " (12936415433533941623, [7, 9, 8]),\n",
       " (2269307870816672209, [4, 7]),\n",
       " (892269261990318505, [4, 2])]"
      ]
     },
     "execution_count": 20,
     "metadata": {},
     "output_type": "execute_result"
    }
   ],
   "source": [
    "# doc = nlp(\"Un'ingrediente è il bezoar\")\n",
    "# doc = nlp(\"Un'ingrediente è l'acqua di luna\")\n",
    "# doc = nlp(\"Gli ingredienti sono l'acqua di luna e un bezoar\")\n",
    "# doc = nlp(\"è composta da: acqua di luna, un Uovo di Ashwinder e un petalo di rosa\")\n",
    "# doc = nlp(\"l'acqua di luna è un'ingrediente, le uova di ashwinder no\")\n",
    "# doc = nlp(\"le uova di Ashwinder non sono un ingrediente\")\n",
    "# doc = nlp(\"tre uova di ashwinder\")\n",
    "doc = nlp(\"La pozione non è composta da 2 acqua di luna\")\n",
    "\n",
    "\n",
    "\n",
    "matches = matcher(doc)\n",
    "matches"
   ]
  },
  {
   "cell_type": "code",
   "execution_count": null,
   "metadata": {},
   "outputs": [
    {
     "data": {
      "text/plain": [
       "[('Quantity', '2 acqua'),\n",
       " ('Ingredients', 'acqua di luna'),\n",
       " ('is_ingredient', 'composta acqua'),\n",
       " ('Is_not_ingredient', 'non composta')]"
      ]
     },
     "execution_count": 21,
     "metadata": {},
     "output_type": "execute_result"
    }
   ],
   "source": [
    "for match in matches: \n",
    "    match[1].sort()\n",
    "[(nlp.vocab.strings[match[0]], \" \".join([doc[i].text for i in match[1]])) for match in matches]"
   ]
  },
  {
   "cell_type": "code",
   "execution_count": null,
   "metadata": {},
   "outputs": [],
   "source": []
  }
 ],
 "metadata": {
  "kernelspec": {
   "display_name": "Python 3.10.6 64-bit",
   "language": "python",
   "name": "python3"
  },
  "language_info": {
   "codemirror_mode": {
    "name": "ipython",
    "version": 3
   },
   "file_extension": ".py",
   "mimetype": "text/x-python",
   "name": "python",
   "nbconvert_exporter": "python",
   "pygments_lexer": "ipython3",
   "version": "3.10.6"
  },
  "orig_nbformat": 4,
  "vscode": {
   "interpreter": {
    "hash": "916dbcbb3f70747c44a77c7bcd40155683ae19c65e1c03b4aa3499c5328201f1"
   }
  }
 },
 "nbformat": 4,
 "nbformat_minor": 2
}
